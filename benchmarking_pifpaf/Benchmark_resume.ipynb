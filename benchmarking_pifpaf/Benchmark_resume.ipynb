{
 "cells": [
  {
   "cell_type": "code",
   "execution_count": 1,
   "metadata": {},
   "outputs": [],
   "source": [
    "import os\n",
    "\n",
    "import pysparkling\n",
    "import argparse\n",
    "import datetime\n",
    "import json\n",
    "import logging\n",
    "import os\n",
    "import numpy as np\n"
   ]
  },
  {
   "cell_type": "code",
   "execution_count": 2,
   "metadata": {},
   "outputs": [],
   "source": [
    "LOG = logging.getLogger(__name__)"
   ]
  },
  {
   "cell_type": "markdown",
   "metadata": {},
   "source": [
    "# Benchmarking Resume"
   ]
  },
  {
   "cell_type": "markdown",
   "metadata": {},
   "source": [
    "This function is only there to have a resume of all the benchmarking of the different versions of pipaf."
   ]
  },
  {
   "cell_type": "markdown",
   "metadata": {},
   "source": [
    "The benchmarking are done on the validation set of the "
   ]
  },
  {
   "cell_type": "code",
   "execution_count": 3,
   "metadata": {},
   "outputs": [],
   "source": [
    "dir_stats = '../openpifpaf/outputs'"
   ]
  },
  {
   "cell_type": "code",
   "execution_count": 4,
   "metadata": {},
   "outputs": [],
   "source": [
    "parameters = [\"Average Precision  (AP) [%] [ IoU=0.50:0.95 | area=   all | maxDets= 20 ]\",\"Average Precision  (AP) [%] [ IoU=0.50      | area=   all | maxDets= 20 ]\",\n",
    "             \"Average Precision  (AP) [%] [ IoU=0.75      | area=   all | maxDets= 20 ]\", \"Average Precision  (AP) [%] [ IoU=0.50:0.95 | area=medium | maxDets= 20 ]\",\n",
    "             \"Average Precision  (AP) [%] [ IoU=0.50:0.95 | area= large | maxDets= 20 ]\", \"Average Recall     (AR) [%] [ IoU=0.50:0.95 | area=   all | maxDets= 20 ]\",\n",
    "              \"Average Recall     (AR) [%] [ IoU=0.50      | area=   all | maxDets= 20 ]\", \"Average Recall     (AR) [%] [ IoU=0.75      | area=   all | maxDets= 20 ]\",\n",
    "             \"Average Recall     (AR) [%] [ IoU=0.50:0.95 | area=medium | maxDets= 20 ]\", \"Average Recall     (AR) [%] [ IoU=0.50:0.95 | area= large | maxDets= 20 ]\", \n",
    "             \"Decoder time tdec\", \"Total time t\"]"
   ]
  },
  {
   "cell_type": "code",
   "execution_count": 5,
   "metadata": {},
   "outputs": [],
   "source": [
    "best_of = {}\n",
    "for parameter in parameters:\n",
    "    best_of[parameter] = [0, \"0\"]\n",
    "best_of[parameters[10]] = [np.inf, \"0\"]\n",
    "best_of[parameters[11]] = [np.inf, \"0\"]"
   ]
  },
  {
   "cell_type": "code",
   "execution_count": 6,
   "metadata": {},
   "outputs": [],
   "source": [
    "for filename in os.listdir(dir_stats):\n",
    "\n",
    "    \n",
    "    if filename.endswith('stats.json'):\n",
    "        \n",
    "        with open(os.path.join(dir_stats,filename)) as myfile:\n",
    "            data = json.load(myfile)\n",
    "\n",
    "\n",
    "            print(str(\"_\"*100)+\"\\n\")\n",
    "\n",
    "            print(filename+\"\\n\")\n",
    "            infos = filename.split('-')\n",
    "            long_edge = None if len(filename.split('_'))==1 else filename.split('_')[2]\n",
    "            square_edge = infos[3][4:] if not('skeleton' in filename) else infos[4][4:]\n",
    "            if   1: #\"None\" in long_edge:#int(square_edge)!= 250 and infos[0]!=\"resnet101\" :\n",
    "                print(f\"Backbone : {infos[0]}\")\n",
    "                print(f\"Long edge: {long_edge}\")\n",
    "                print(f\"Date : {infos[5]}\")\n",
    "                print(f\"Square edge:{square_edge}\" )\n",
    "                print(f\"Average Precision  (AP) [ IoU=0.50:0.95 | area=   all | maxDets= 20 ] = {str(100.0 * data['stats'][0])[:4]} % \")\n",
    "                print(f\"Average Precision  (AP) [ IoU=0.50      | area=   all | maxDets= 20 ] = {str(100.0 * data['stats'][1])[:4]} %\")\n",
    "                print(f\"Average Precision  (AP) [ IoU=0.75      | area=   all | maxDets= 20 ] = {str(100.0 * data['stats'][2])[:4]} %\")\n",
    "                print(f\"Average Precision  (AP) [ IoU=0.50:0.95 | area=medium | maxDets= 20 ] = {str(100.0 * data['stats'][3])[:4]} %\")\n",
    "                print(f\"Average Precision  (AP) [ IoU=0.50:0.95 | area= large | maxDets= 20 ] = {str(100.0 * data['stats'][4])[:4]} %\")\n",
    "                print(f\"Average Recall     (AR) [ IoU=0.50:0.95 | area=   all | maxDets= 20 ] = {str(100.0 * data['stats'][5])[:4]} %\")\n",
    "                print(f\"Average Recall     (AR) [ IoU=0.50      | area=   all | maxDets= 20 ] = {str(100.0 * data['stats'][6])[:4]} %\")\n",
    "                print(f\"Average Recall     (AR) [ IoU=0.75      | area=   all | maxDets= 20 ] = {str(100.0 * data['stats'][7])[:4]} %\")\n",
    "                print(f\"Average Recall     (AR) [ IoU=0.50:0.95 | area=medium | maxDets= 20 ] = {str(100.0 * data['stats'][8])[:4]} %\")\n",
    "                print(f\"Average Recall     (AR) [ IoU=0.50:0.95 | area= large | maxDets= 20 ] = {str(100.0 * data['stats'][9])[:4]} %\\n\")\n",
    "\n",
    "                print(f\"n images = {data['n_images']}\")\n",
    "                print(f\"Decoder time tdec = {1000.0 * data['decoder_time'] / data['n_images']} \")\n",
    "                print(f\"Total time t = {1000.0 * data['total_time'] / data['n_images']} \")\n",
    "\n",
    "                for i, parameter in enumerate(parameters):\n",
    "                    name =  str(infos[0])+\" \"+str(infos[5])+\" \"+\"_SE = \"+str(square_edge)+\"_LE = \"+str(long_edge) \n",
    "\n",
    "                    if i < 10 and (best_of[parameter][0]<100.0 * data['stats'][i]):\n",
    "                            best_of[parameter] =[100.0 * data['stats'][i] , name]\n",
    "                    if i == 10 and (best_of[parameter][0] > 1000.0 * data['decoder_time'] / data['n_images']):\n",
    "                            best_of[parameter] = [1000.0 * data['decoder_time'] / data['n_images'], name]\n",
    "\n",
    "                    if i == 11 and (best_of[parameter][0] > 1000.0 * data['total_time'] / data['n_images']):\n",
    "                            best_of[parameter] = [1000.0 * data['total_time'] / data['n_images'], name]\n",
    "\n",
    "                "
   ]
  },
  {
   "cell_type": "code",
   "execution_count": 7,
   "metadata": {},
   "outputs": [
    {
     "name": "stdout",
     "output_type": "stream",
     "text": [
      "Average Precision  (AP) [%] [ IoU=0.50:0.95 | area=   all | maxDets= 20 ] = 0 from : 0\n",
      "Average Precision  (AP) [%] [ IoU=0.50      | area=   all | maxDets= 20 ] = 0 from : 0\n",
      "Average Precision  (AP) [%] [ IoU=0.75      | area=   all | maxDets= 20 ] = 0 from : 0\n",
      "Average Precision  (AP) [%] [ IoU=0.50:0.95 | area=medium | maxDets= 20 ] = 0 from : 0\n",
      "Average Precision  (AP) [%] [ IoU=0.50:0.95 | area= large | maxDets= 20 ] = 0 from : 0\n",
      "Average Recall     (AR) [%] [ IoU=0.50:0.95 | area=   all | maxDets= 20 ] = 0 from : 0\n",
      "Average Recall     (AR) [%] [ IoU=0.50      | area=   all | maxDets= 20 ] = 0 from : 0\n",
      "Average Recall     (AR) [%] [ IoU=0.75      | area=   all | maxDets= 20 ] = 0 from : 0\n",
      "Average Recall     (AR) [%] [ IoU=0.50:0.95 | area=medium | maxDets= 20 ] = 0 from : 0\n",
      "Average Recall     (AR) [%] [ IoU=0.50:0.95 | area= large | maxDets= 20 ] = 0 from : 0\n",
      "Decoder time tdec = inf from : 0\n",
      "Total time t = inf from : 0\n"
     ]
    }
   ],
   "source": [
    "for key in best_of :\n",
    "    print(key+\" = \" + str(best_of[key][0])[:4]+\" from : \"+str(best_of[key][1]))\n"
   ]
  }
 ],
 "metadata": {
  "kernelspec": {
   "display_name": "Python 3",
   "language": "python",
   "name": "python3"
  },
  "language_info": {
   "codemirror_mode": {
    "name": "ipython",
    "version": 3
   },
   "file_extension": ".py",
   "mimetype": "text/x-python",
   "name": "python",
   "nbconvert_exporter": "python",
   "pygments_lexer": "ipython3",
   "version": "3.6.8"
  }
 },
 "nbformat": 4,
 "nbformat_minor": 4
}
